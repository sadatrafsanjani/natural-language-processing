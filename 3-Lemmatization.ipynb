{
 "cells": [
  {
   "cell_type": "code",
   "execution_count": 13,
   "id": "63f94762",
   "metadata": {},
   "outputs": [],
   "source": [
    "import nltk\n",
    "from nltk.stem import WordNetLemmatizer\n",
    "from nltk.corpus import stopwords"
   ]
  },
  {
   "cell_type": "code",
   "execution_count": 14,
   "id": "1254e865",
   "metadata": {},
   "outputs": [],
   "source": [
    "paragraph = \"\"\"The inaugural ceremony is a defining moment in a president’s career — and no \n",
    "one knew this better than John F. Kennedy as he prepared for his own inauguration on January \n",
    "20, 1961. He wanted his address to be short and clear, devoid of any partisan rhetoric and \n",
    "focused on foreign policy. Kennedy began constructing his speech in late November, working \n",
    "from a speech file kept by his secretary and soliciting suggestions from friends and advisors. \n",
    "He wrote his thoughts in his nearly indecipherable longhand on a yellow legal pad.\n",
    "While his colleagues submitted ideas, the speech was distinctly the work of Kennedy \n",
    "himself. Aides recounted that every sentence was worked, reworked, and reduced. \n",
    "The meticulously crafted piece of oratory dramatically announced a generational \n",
    "change in the White House. It called on the nation to combat \"tyranny, poverty, \n",
    "disease, and war itself\" and urged American citizens to participate in public service.\n",
    "The climax of the speech and its most memorable phrase – \"Ask not what your country can \n",
    "do for you – ask what you can do for your country\" – was honed down from a thought \n",
    "about sacrifice that Kennedy had long held in his mind and had expressed in various \n",
    "ways in campaign speeches. Less than six weeks after his inauguration, on March 1, \n",
    "President Kennedy issued an executive order establishing the Peace Corps as a pilot \n",
    "program within the Department of State. He envisioned the Peace Corps as a pool of trained \n",
    "American volunteers who would go overseas to help foreign countries meet their needs for \n",
    "skilled manpower. Later that year, Congress passed the Peace Corps Act, making the program permanent.\"\"\""
   ]
  },
  {
   "cell_type": "code",
   "execution_count": 15,
   "id": "9d662a65",
   "metadata": {},
   "outputs": [],
   "source": [
    "sentences = nltk.sent_tokenize(paragraph)"
   ]
  },
  {
   "cell_type": "code",
   "execution_count": 16,
   "id": "eb23ea9f",
   "metadata": {},
   "outputs": [],
   "source": [
    "lemmatizer = WordNetLemmatizer()"
   ]
  },
  {
   "cell_type": "code",
   "execution_count": 17,
   "id": "bc1865e9",
   "metadata": {},
   "outputs": [],
   "source": [
    "for i in range(len(sentences)):\n",
    "    \n",
    "    words = nltk.word_tokenize(sentences[i])\n",
    "    words = [lemmatizer.lemmatize(word) for word in words if word not in set(stopwords.words('english'))]\n",
    "    sentences[i] = ' '.join(words)"
   ]
  },
  {
   "cell_type": "code",
   "execution_count": 18,
   "id": "d81f0088",
   "metadata": {},
   "outputs": [
    {
     "name": "stdout",
     "output_type": "stream",
     "text": [
      "The inaugural ceremony defining moment president ’ career — one knew better John F. Kennedy prepared inauguration January 20 , 1961 .\n",
      "He wanted address short clear , devoid partisan rhetoric focused foreign policy .\n",
      "Kennedy began constructing speech late November , working speech file kept secretary soliciting suggestion friend advisor .\n",
      "He wrote thought nearly indecipherable longhand yellow legal pad .\n",
      "While colleague submitted idea , speech distinctly work Kennedy .\n",
      "Aides recounted every sentence worked , reworked , reduced .\n",
      "The meticulously crafted piece oratory dramatically announced generational change White House .\n",
      "It called nation combat `` tyranny , poverty , disease , war '' urged American citizen participate public service .\n",
      "The climax speech memorable phrase – `` Ask country – ask country '' – honed thought sacrifice Kennedy long held mind expressed various way campaign speech .\n",
      "Less six week inauguration , March 1 , President Kennedy issued executive order establishing Peace Corps pilot program within Department State .\n",
      "He envisioned Peace Corps pool trained American volunteer would go overseas help foreign country meet need skilled manpower .\n",
      "Later year , Congress passed Peace Corps Act , making program permanent .\n"
     ]
    }
   ],
   "source": [
    "for sentence in sentences:\n",
    "    print(sentence)"
   ]
  },
  {
   "cell_type": "code",
   "execution_count": null,
   "id": "074f481a",
   "metadata": {},
   "outputs": [],
   "source": []
  }
 ],
 "metadata": {
  "kernelspec": {
   "display_name": "Python 3 (ipykernel)",
   "language": "python",
   "name": "python3"
  },
  "language_info": {
   "codemirror_mode": {
    "name": "ipython",
    "version": 3
   },
   "file_extension": ".py",
   "mimetype": "text/x-python",
   "name": "python",
   "nbconvert_exporter": "python",
   "pygments_lexer": "ipython3",
   "version": "3.9.13"
  }
 },
 "nbformat": 4,
 "nbformat_minor": 5
}
