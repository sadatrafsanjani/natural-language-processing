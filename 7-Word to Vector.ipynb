{
 "cells": [
  {
   "cell_type": "code",
   "execution_count": 3,
   "id": "b7cc92a8",
   "metadata": {},
   "outputs": [
    {
     "name": "stdout",
     "output_type": "stream",
     "text": [
      "['arabic', 'azerbaijani', 'basque', 'bengali', 'catalan', 'chinese', 'danish', 'dutch', 'english', 'finnish', 'french', 'german', 'greek', 'hebrew', 'hinglish', 'hungarian', 'indonesian', 'italian', 'kazakh', 'nepali', 'norwegian', 'portuguese', 'romanian', 'russian', 'slovene', 'spanish', 'swedish', 'tajik', 'turkish']\n"
     ]
    }
   ],
   "source": [
    "import nltk\n",
    "from gensim.models import Word2Vec\n",
    "from nltk.corpus import stopwords\n",
    "import re\n",
    "from nltk.corpus import stopwords\n",
    "print(stopwords.fileids())"
   ]
  },
  {
   "cell_type": "code",
   "execution_count": 2,
   "id": "6f6f4745",
   "metadata": {},
   "outputs": [],
   "source": [
    "paragraph = \"\"\"দুবাইয়ে সোনার দোকান চালু করে সাম্প্রতিক সময়ে আলোচিত রবিউল ইসলাম ওরফে আরাভ খান যে বাংলাদেশি, \n",
    "সেটা দুবাইসহ সংযুক্ত আরব আমিরাতের প্রায় সবাই জানতেন। এমনকি বিনোদন জগৎসহ সেখানকার বাংলাদেশি সম্প্রদায়ের আয়োজিত \n",
    "অনুষ্ঠানে পৃষ্ঠপোষকতার মাধ্যমে ওই তরুণের সরব উপস্থিতি ছিল। ঢাকায় আইনশৃঙ্খলা রক্ষাকারী বাহিনীর পক্ষ থেকে দাবি করা হয়েছে \n",
    "ঢাকায় পুলিশ হত্যা মামলার আসামি রবিউল ইসলাম ওরফে আরাভ খান ভারতীয় পাসপোর্ট নিয়ে সংযুক্ত আরব আমিরাতে অবস্থান করছিলেন।\n",
    "এদিকে ঢাকায় পুলিশের একজন পরিদর্শক মামুন এমরান খান হত্যা মামলার এজাহারভুক্ত আসামী রবিউল ইসলাম ওরফে আরাভ। গ্রেপ্তারি \n",
    "পরোয়ানা থাকার পরও গত বছরের মার্চ এবং সবশেষ গত ফেব্রুয়ারিতে তিনি বাংলাদেশ সফরে এসেছিলেন। ফেসবুক লাইভে তিনি তাঁর \n",
    "উপস্থিতির জানান দিয়েছিলেন। গত এক বছরে বাংলাদেশ সফরের সময় তিনি দুবাইয়ের বাংলাদেশ কনস্যুলেট থেকে ভিসা নিয়েছিলেন \n",
    "বলে কূটনৈতিক সূত্রে আভাস মিলেছে। তবে গতকাল শনিবার রাতে আরাভ খানের ভিসার বিষয়ে জানতে দুবাইয়ে বাংলাদেশ \n",
    "কনস্যুলেটে যোগাযোগ করা হয়েছিল। তবে বাংলাদেশের ওই মিশনে কর্মরত কেউ উদ্ধৃত হয়ে কোনো মন্তব্য করতে \n",
    "অপারগতা প্রকাশ করেন। তবে তাঁরা জানিয়েছেন, উল্লেখিত ব্যক্তি যদি ভারতীয় পাসপোর্টে বাংলাদেশ ভ্রমণ করেন, \n",
    "সে ক্ষেত্রে তাঁর ভিসা ছাড়া প্রবেশের সুযোগ নেই।\"\"\""
   ]
  },
  {
   "cell_type": "code",
   "execution_count": 4,
   "id": "4297e61b",
   "metadata": {},
   "outputs": [],
   "source": [
    "text = re.sub(r'\\[[০-৯]*\\]',' ',paragraph)\n",
    "text = re.sub(r'\\s+',' ',text)\n",
    "text = text.lower()\n",
    "text = re.sub(r'\\d',' ',text)\n",
    "text = re.sub(r'\\s+',' ',text)"
   ]
  },
  {
   "cell_type": "code",
   "execution_count": 5,
   "id": "407debcf",
   "metadata": {},
   "outputs": [],
   "source": [
    "sentences = nltk.sent_tokenize(text)"
   ]
  },
  {
   "cell_type": "code",
   "execution_count": 6,
   "id": "5e3c06a1",
   "metadata": {},
   "outputs": [],
   "source": [
    "sentences = [nltk.word_tokenize(sentence) for sentence in sentences]"
   ]
  },
  {
   "cell_type": "code",
   "execution_count": 7,
   "id": "34ffdccb",
   "metadata": {},
   "outputs": [],
   "source": [
    "for i in range(len(sentences)):\n",
    "    sentences[i] = [word for word in sentences[i] if word not in stopwords.words('bengali')]"
   ]
  },
  {
   "cell_type": "code",
   "execution_count": 8,
   "id": "7ab5b59b",
   "metadata": {},
   "outputs": [],
   "source": [
    "model = Word2Vec(sentences, min_count=1)"
   ]
  },
  {
   "cell_type": "code",
   "execution_count": 10,
   "id": "4f67c13f",
   "metadata": {},
   "outputs": [],
   "source": [
    "words = model.wv.key_to_index"
   ]
  },
  {
   "cell_type": "code",
   "execution_count": 16,
   "id": "44df943a",
   "metadata": {},
   "outputs": [],
   "source": [
    "vector = model.wv['আরাভ']"
   ]
  },
  {
   "cell_type": "code",
   "execution_count": 17,
   "id": "f385389b",
   "metadata": {},
   "outputs": [
    {
     "data": {
      "text/plain": [
       "array([ 8.1376396e-03, -4.4436748e-03, -1.0792537e-03,  9.9107553e-04,\n",
       "       -1.7942613e-04,  1.1214294e-03,  6.1175111e-03,  1.0705902e-05,\n",
       "       -3.2506140e-03, -1.5080373e-03,  5.8645848e-03,  1.4797485e-03,\n",
       "       -7.0929201e-04,  9.3567651e-03, -4.9209907e-03, -8.7120745e-04,\n",
       "        9.1911573e-03,  6.7044389e-03,  1.4831624e-03, -8.9198807e-03,\n",
       "        1.1628337e-03, -2.2856980e-03,  9.3757017e-03,  1.2156267e-03,\n",
       "        1.4760649e-03,  2.4047929e-03, -1.8446312e-03, -5.0143315e-03,\n",
       "        2.0677526e-04, -2.0265640e-03,  6.6303262e-03,  8.9413170e-03,\n",
       "       -6.5976626e-04,  2.9546830e-03, -6.1230338e-03,  1.7103991e-03,\n",
       "       -6.9130370e-03, -8.7036816e-03, -5.9051472e-03, -8.9790784e-03,\n",
       "        7.2696945e-03, -5.7880161e-03,  8.2787303e-03, -7.2564804e-03,\n",
       "        3.4270762e-03,  9.6782194e-03, -7.7951807e-03, -9.9733314e-03,\n",
       "       -4.3032235e-03, -2.6743193e-03, -2.6973372e-04, -8.8318503e-03,\n",
       "       -8.6112786e-03,  2.7827637e-03, -8.1838816e-03, -9.0611102e-03,\n",
       "       -2.3208053e-03, -8.6074397e-03, -7.0744553e-03, -8.4247282e-03,\n",
       "       -2.8448220e-04, -4.5912862e-03,  6.6319094e-03,  1.5489066e-03,\n",
       "       -3.3488544e-03,  6.1283596e-03, -6.0197632e-03, -4.6596276e-03,\n",
       "       -7.2442056e-03, -4.2871838e-03, -1.8097613e-03,  6.4962069e-03,\n",
       "       -2.7512561e-03,  4.9140383e-03,  6.9134738e-03, -7.4835331e-03,\n",
       "        4.5784987e-03,  6.1397017e-03, -2.9555131e-03,  6.6308379e-03,\n",
       "        6.0983291e-03, -6.4520603e-03, -6.7999386e-03,  2.5681583e-03,\n",
       "       -1.6462854e-03, -6.0891812e-03,  9.5272493e-03, -5.0951773e-03,\n",
       "       -6.5374346e-03, -1.1026648e-04, -2.6715081e-03,  4.4499477e-04,\n",
       "       -3.5257651e-03, -4.0924197e-04, -6.9708942e-04,  8.1622077e-04,\n",
       "        8.1940172e-03, -5.7201739e-03, -1.6674452e-03,  5.5583040e-03],\n",
       "      dtype=float32)"
      ]
     },
     "execution_count": 17,
     "metadata": {},
     "output_type": "execute_result"
    }
   ],
   "source": [
    "vector"
   ]
  },
  {
   "cell_type": "code",
   "execution_count": 20,
   "id": "72b97020",
   "metadata": {},
   "outputs": [],
   "source": [
    "similar = model.wv.most_similar('হত্যা')"
   ]
  },
  {
   "cell_type": "code",
   "execution_count": 21,
   "id": "324a82d5",
   "metadata": {},
   "outputs": [
    {
     "data": {
      "text/plain": [
       "[('বাংলাদেশের', 0.31493493914604187),\n",
       " ('আয়োজিত', 0.31294143199920654),\n",
       " ('গ্রেপ্তারি', 0.1865922063589096),\n",
       " ('পাসপোর্ট', 0.1828947514295578),\n",
       " ('সুযোগ', 0.18234799802303314),\n",
       " ('পরোয়ানা', 0.17425622045993805),\n",
       " ('গত', 0.1736735701560974),\n",
       " ('ভ্রমণ', 0.17212001979351044),\n",
       " ('মিশনে', 0.1713726669549942),\n",
       " ('ওরফে', 0.16784149408340454)]"
      ]
     },
     "execution_count": 21,
     "metadata": {},
     "output_type": "execute_result"
    }
   ],
   "source": [
    "similar"
   ]
  },
  {
   "cell_type": "code",
   "execution_count": null,
   "id": "c983e5aa",
   "metadata": {},
   "outputs": [],
   "source": []
  }
 ],
 "metadata": {
  "kernelspec": {
   "display_name": "Python 3 (ipykernel)",
   "language": "python",
   "name": "python3"
  },
  "language_info": {
   "codemirror_mode": {
    "name": "ipython",
    "version": 3
   },
   "file_extension": ".py",
   "mimetype": "text/x-python",
   "name": "python",
   "nbconvert_exporter": "python",
   "pygments_lexer": "ipython3",
   "version": "3.9.13"
  }
 },
 "nbformat": 4,
 "nbformat_minor": 5
}
