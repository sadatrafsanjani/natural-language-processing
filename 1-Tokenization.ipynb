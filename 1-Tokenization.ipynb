{
 "cells": [
  {
   "cell_type": "code",
   "execution_count": 9,
   "id": "c2403cc5",
   "metadata": {},
   "outputs": [],
   "source": [
    "import nltk"
   ]
  },
  {
   "cell_type": "code",
   "execution_count": 10,
   "id": "8cfe9bd8",
   "metadata": {},
   "outputs": [],
   "source": [
    "paragraph = \"\"\"The inaugural ceremony is a defining moment in a president’s career — and no \n",
    "one knew this better than John F. Kennedy as he prepared for his own inauguration on January \n",
    "20, 1961. He wanted his address to be short and clear, devoid of any partisan rhetoric and focused \n",
    "on foreign policy. Kennedy began constructing his speech in late November, working from a \n",
    "speech file kept by his secretary and soliciting suggestions from friends and advisors. \n",
    "He wrote his thoughts in his nearly indecipherable longhand on a yellow legal pad.\n",
    "While his colleagues submitted ideas, the speech was distinctly the work of Kennedy \n",
    "himself. Aides recounted that every sentence was worked, reworked, and reduced. \n",
    "The meticulously crafted piece of oratory dramatically announced a generational \n",
    "change in the White House. It called on the nation to combat \"tyranny, poverty, \n",
    "disease, and war itself\" and urged American citizens to participate in public service.\n",
    "The climax of the speech and its most memorable phrase – \"Ask not what your country can \n",
    "do for you – ask what you can do for your country\" – was honed down from a thought \n",
    "about sacrifice that Kennedy had long held in his mind and had expressed in various \n",
    "ways in campaign speeches. Less than six weeks after his inauguration, on March 1, \n",
    "President Kennedy issued an executive order establishing the Peace Corps as a pilot \n",
    "program within the Department of State. He envisioned the Peace Corps as a pool of trained \n",
    "American volunteers who would go overseas to help foreign countries meet their needs for \n",
    "skilled manpower. Later that year, Congress passed the Peace Corps Act, making the program permanent.\"\"\""
   ]
  },
  {
   "cell_type": "code",
   "execution_count": 11,
   "id": "2306335c",
   "metadata": {},
   "outputs": [],
   "source": [
    "sentences = nltk.sent_tokenize(paragraph)"
   ]
  },
  {
   "cell_type": "code",
   "execution_count": 13,
   "id": "16bd58dc",
   "metadata": {},
   "outputs": [
    {
     "name": "stdout",
     "output_type": "stream",
     "text": [
      "12\n"
     ]
    }
   ],
   "source": [
    "print(len(sentences))"
   ]
  },
  {
   "cell_type": "code",
   "execution_count": 14,
   "id": "a272e375",
   "metadata": {},
   "outputs": [],
   "source": [
    "words = nltk.word_tokenize(paragraph)"
   ]
  },
  {
   "cell_type": "code",
   "execution_count": 16,
   "id": "e915af05",
   "metadata": {},
   "outputs": [
    {
     "data": {
      "text/plain": [
       "305"
      ]
     },
     "execution_count": 16,
     "metadata": {},
     "output_type": "execute_result"
    }
   ],
   "source": [
    "len(words)"
   ]
  },
  {
   "cell_type": "code",
   "execution_count": null,
   "id": "3a8e2d8e",
   "metadata": {},
   "outputs": [],
   "source": []
  }
 ],
 "metadata": {
  "kernelspec": {
   "display_name": "Python 3 (ipykernel)",
   "language": "python",
   "name": "python3"
  },
  "language_info": {
   "codemirror_mode": {
    "name": "ipython",
    "version": 3
   },
   "file_extension": ".py",
   "mimetype": "text/x-python",
   "name": "python",
   "nbconvert_exporter": "python",
   "pygments_lexer": "ipython3",
   "version": "3.9.13"
  }
 },
 "nbformat": 4,
 "nbformat_minor": 5
}
