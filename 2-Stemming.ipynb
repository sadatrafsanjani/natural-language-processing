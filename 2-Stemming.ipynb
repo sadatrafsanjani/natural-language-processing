{
 "cells": [
  {
   "cell_type": "code",
   "execution_count": 12,
   "id": "787e6925",
   "metadata": {},
   "outputs": [],
   "source": [
    "import nltk\n",
    "from nltk.stem import PorterStemmer\n",
    "from nltk.corpus import stopwords"
   ]
  },
  {
   "cell_type": "code",
   "execution_count": 13,
   "id": "42ce3c86",
   "metadata": {},
   "outputs": [],
   "source": [
    "paragraph = \"\"\"The inaugural ceremony is a defining moment in a president’s career — and no \n",
    "one knew this better than John F. Kennedy as he prepared for his own inauguration on January \n",
    "20, 1961. He wanted his address to be short and clear, devoid of any partisan rhetoric and \n",
    "focused on foreign policy. Kennedy began constructing his speech in late November, working \n",
    "from a speech file kept by his secretary and soliciting suggestions from friends and advisors. \n",
    "He wrote his thoughts in his nearly indecipherable longhand on a yellow legal pad.\n",
    "While his colleagues submitted ideas, the speech was distinctly the work of Kennedy \n",
    "himself. Aides recounted that every sentence was worked, reworked, and reduced. \n",
    "The meticulously crafted piece of oratory dramatically announced a generational \n",
    "change in the White House. It called on the nation to combat \"tyranny, poverty, \n",
    "disease, and war itself\" and urged American citizens to participate in public service.\n",
    "The climax of the speech and its most memorable phrase – \"Ask not what your country can \n",
    "do for you – ask what you can do for your country\" – was honed down from a thought \n",
    "about sacrifice that Kennedy had long held in his mind and had expressed in various \n",
    "ways in campaign speeches. Less than six weeks after his inauguration, on March 1, \n",
    "President Kennedy issued an executive order establishing the Peace Corps as a pilot \n",
    "program within the Department of State. He envisioned the Peace Corps as a pool of trained \n",
    "American volunteers who would go overseas to help foreign countries meet their needs for \n",
    "skilled manpower. Later that year, Congress passed the Peace Corps Act, making the program permanent.\"\"\""
   ]
  },
  {
   "cell_type": "code",
   "execution_count": 14,
   "id": "5a75ef3e",
   "metadata": {},
   "outputs": [],
   "source": [
    "sentences = nltk.sent_tokenize(paragraph)"
   ]
  },
  {
   "cell_type": "code",
   "execution_count": 15,
   "id": "2eca4884",
   "metadata": {},
   "outputs": [],
   "source": [
    "stemmer = PorterStemmer()"
   ]
  },
  {
   "cell_type": "code",
   "execution_count": 16,
   "id": "092d3cd3",
   "metadata": {},
   "outputs": [],
   "source": [
    "for i in range(len(sentences)):\n",
    "    words = nltk.word_tokenize(sentences[i])\n",
    "    words = [stemmer.stem(word) for word in words if word not in set(stopwords.words('english'))]\n",
    "    sentences[i] = ' '.join(words)"
   ]
  },
  {
   "cell_type": "code",
   "execution_count": 17,
   "id": "48d601d0",
   "metadata": {},
   "outputs": [
    {
     "name": "stdout",
     "output_type": "stream",
     "text": [
      "the inaugur ceremoni defin moment presid ’ career — one knew better john f. kennedi prepar inaugur januari 20 , 1961 .\n",
      "he want address short clear , devoid partisan rhetor focus foreign polici .\n",
      "kennedi began construct speech late novemb , work speech file kept secretari solicit suggest friend advisor .\n",
      "he wrote thought nearli indecipher longhand yellow legal pad .\n",
      "while colleagu submit idea , speech distinctli work kennedi .\n",
      "aid recount everi sentenc work , rework , reduc .\n",
      "the meticul craft piec oratori dramat announc gener chang white hous .\n",
      "it call nation combat `` tyranni , poverti , diseas , war '' urg american citizen particip public servic .\n",
      "the climax speech memor phrase – `` ask countri – ask countri '' – hone thought sacrific kennedi long held mind express variou way campaign speech .\n",
      "less six week inaugur , march 1 , presid kennedi issu execut order establish peac corp pilot program within depart state .\n",
      "he envis peac corp pool train american volunt would go oversea help foreign countri meet need skill manpow .\n",
      "later year , congress pass peac corp act , make program perman .\n"
     ]
    }
   ],
   "source": [
    "for sentence in sentences:\n",
    "    print(sentence)"
   ]
  },
  {
   "cell_type": "code",
   "execution_count": null,
   "id": "1306b015",
   "metadata": {},
   "outputs": [],
   "source": []
  }
 ],
 "metadata": {
  "kernelspec": {
   "display_name": "Python 3 (ipykernel)",
   "language": "python",
   "name": "python3"
  },
  "language_info": {
   "codemirror_mode": {
    "name": "ipython",
    "version": 3
   },
   "file_extension": ".py",
   "mimetype": "text/x-python",
   "name": "python",
   "nbconvert_exporter": "python",
   "pygments_lexer": "ipython3",
   "version": "3.9.13"
  }
 },
 "nbformat": 4,
 "nbformat_minor": 5
}
