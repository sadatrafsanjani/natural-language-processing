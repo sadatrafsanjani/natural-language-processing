{
 "cells": [
  {
   "cell_type": "code",
   "execution_count": 68,
   "id": "81c6a2a8",
   "metadata": {},
   "outputs": [],
   "source": [
    "import pandas as pd\n",
    "from nltk.corpus import stopwords\n",
    "from nltk.stem import WordNetLemmatizer\n",
    "from nltk.corpus import stopwords\n",
    "import re\n",
    "import numpy as np\n",
    "from tensorflow.keras.layers import Embedding\n",
    "from tensorflow.keras.preprocessing.sequence import pad_sequences\n",
    "from tensorflow.keras.models import Sequential\n",
    "from tensorflow.keras.preprocessing.text import one_hot\n",
    "from tensorflow.keras.layers import LSTM\n",
    "from tensorflow.keras.layers import Dense\n",
    "from sklearn.model_selection import train_test_split\n",
    "from tensorflow.keras.layers import Dropout\n",
    "from sklearn import metrics\n",
    "from sklearn.metrics import accuracy_score\n",
    "from sklearn.metrics import confusion_matrix"
   ]
  },
  {
   "cell_type": "code",
   "execution_count": 69,
   "id": "1730f900",
   "metadata": {},
   "outputs": [],
   "source": [
    "dataset = pd.read_csv('news/train.csv')\n",
    "dataset = dataset.dropna()\n",
    "dataset.reset_index(inplace=True)"
   ]
  },
  {
   "cell_type": "code",
   "execution_count": 70,
   "id": "e7cd92b7",
   "metadata": {},
   "outputs": [],
   "source": [
    "X = dataset.iloc[:,0:4]\n",
    "y = dataset.iloc[:,5]"
   ]
  },
  {
   "cell_type": "code",
   "execution_count": 71,
   "id": "e3d2902a",
   "metadata": {},
   "outputs": [
    {
     "data": {
      "text/html": [
       "<div>\n",
       "<style scoped>\n",
       "    .dataframe tbody tr th:only-of-type {\n",
       "        vertical-align: middle;\n",
       "    }\n",
       "\n",
       "    .dataframe tbody tr th {\n",
       "        vertical-align: top;\n",
       "    }\n",
       "\n",
       "    .dataframe thead th {\n",
       "        text-align: right;\n",
       "    }\n",
       "</style>\n",
       "<table border=\"1\" class=\"dataframe\">\n",
       "  <thead>\n",
       "    <tr style=\"text-align: right;\">\n",
       "      <th></th>\n",
       "      <th>index</th>\n",
       "      <th>id</th>\n",
       "      <th>title</th>\n",
       "      <th>author</th>\n",
       "    </tr>\n",
       "  </thead>\n",
       "  <tbody>\n",
       "    <tr>\n",
       "      <th>0</th>\n",
       "      <td>0</td>\n",
       "      <td>0</td>\n",
       "      <td>House Dem Aide: We Didn’t Even See Comey’s Let...</td>\n",
       "      <td>Darrell Lucus</td>\n",
       "    </tr>\n",
       "    <tr>\n",
       "      <th>1</th>\n",
       "      <td>1</td>\n",
       "      <td>1</td>\n",
       "      <td>FLYNN: Hillary Clinton, Big Woman on Campus - ...</td>\n",
       "      <td>Daniel J. Flynn</td>\n",
       "    </tr>\n",
       "    <tr>\n",
       "      <th>2</th>\n",
       "      <td>2</td>\n",
       "      <td>2</td>\n",
       "      <td>Why the Truth Might Get You Fired</td>\n",
       "      <td>Consortiumnews.com</td>\n",
       "    </tr>\n",
       "    <tr>\n",
       "      <th>3</th>\n",
       "      <td>3</td>\n",
       "      <td>3</td>\n",
       "      <td>15 Civilians Killed In Single US Airstrike Hav...</td>\n",
       "      <td>Jessica Purkiss</td>\n",
       "    </tr>\n",
       "    <tr>\n",
       "      <th>4</th>\n",
       "      <td>4</td>\n",
       "      <td>4</td>\n",
       "      <td>Iranian woman jailed for fictional unpublished...</td>\n",
       "      <td>Howard Portnoy</td>\n",
       "    </tr>\n",
       "    <tr>\n",
       "      <th>...</th>\n",
       "      <td>...</td>\n",
       "      <td>...</td>\n",
       "      <td>...</td>\n",
       "      <td>...</td>\n",
       "    </tr>\n",
       "    <tr>\n",
       "      <th>18280</th>\n",
       "      <td>20795</td>\n",
       "      <td>20795</td>\n",
       "      <td>Rapper T.I.: Trump a ’Poster Child For White S...</td>\n",
       "      <td>Jerome Hudson</td>\n",
       "    </tr>\n",
       "    <tr>\n",
       "      <th>18281</th>\n",
       "      <td>20796</td>\n",
       "      <td>20796</td>\n",
       "      <td>N.F.L. Playoffs: Schedule, Matchups and Odds -...</td>\n",
       "      <td>Benjamin Hoffman</td>\n",
       "    </tr>\n",
       "    <tr>\n",
       "      <th>18282</th>\n",
       "      <td>20797</td>\n",
       "      <td>20797</td>\n",
       "      <td>Macy’s Is Said to Receive Takeover Approach by...</td>\n",
       "      <td>Michael J. de la Merced and Rachel Abrams</td>\n",
       "    </tr>\n",
       "    <tr>\n",
       "      <th>18283</th>\n",
       "      <td>20798</td>\n",
       "      <td>20798</td>\n",
       "      <td>NATO, Russia To Hold Parallel Exercises In Bal...</td>\n",
       "      <td>Alex Ansary</td>\n",
       "    </tr>\n",
       "    <tr>\n",
       "      <th>18284</th>\n",
       "      <td>20799</td>\n",
       "      <td>20799</td>\n",
       "      <td>What Keeps the F-35 Alive</td>\n",
       "      <td>David Swanson</td>\n",
       "    </tr>\n",
       "  </tbody>\n",
       "</table>\n",
       "<p>18285 rows × 4 columns</p>\n",
       "</div>"
      ],
      "text/plain": [
       "       index     id                                              title  \\\n",
       "0          0      0  House Dem Aide: We Didn’t Even See Comey’s Let...   \n",
       "1          1      1  FLYNN: Hillary Clinton, Big Woman on Campus - ...   \n",
       "2          2      2                  Why the Truth Might Get You Fired   \n",
       "3          3      3  15 Civilians Killed In Single US Airstrike Hav...   \n",
       "4          4      4  Iranian woman jailed for fictional unpublished...   \n",
       "...      ...    ...                                                ...   \n",
       "18280  20795  20795  Rapper T.I.: Trump a ’Poster Child For White S...   \n",
       "18281  20796  20796  N.F.L. Playoffs: Schedule, Matchups and Odds -...   \n",
       "18282  20797  20797  Macy’s Is Said to Receive Takeover Approach by...   \n",
       "18283  20798  20798  NATO, Russia To Hold Parallel Exercises In Bal...   \n",
       "18284  20799  20799                          What Keeps the F-35 Alive   \n",
       "\n",
       "                                          author  \n",
       "0                                  Darrell Lucus  \n",
       "1                                Daniel J. Flynn  \n",
       "2                             Consortiumnews.com  \n",
       "3                                Jessica Purkiss  \n",
       "4                                 Howard Portnoy  \n",
       "...                                          ...  \n",
       "18280                              Jerome Hudson  \n",
       "18281                           Benjamin Hoffman  \n",
       "18282  Michael J. de la Merced and Rachel Abrams  \n",
       "18283                                Alex Ansary  \n",
       "18284                              David Swanson  \n",
       "\n",
       "[18285 rows x 4 columns]"
      ]
     },
     "execution_count": 71,
     "metadata": {},
     "output_type": "execute_result"
    }
   ],
   "source": [
    "X"
   ]
  },
  {
   "cell_type": "code",
   "execution_count": 72,
   "id": "a3b4e1c1",
   "metadata": {},
   "outputs": [
    {
     "data": {
      "text/plain": [
       "0        1\n",
       "1        0\n",
       "2        1\n",
       "3        1\n",
       "4        1\n",
       "        ..\n",
       "18280    0\n",
       "18281    0\n",
       "18282    0\n",
       "18283    1\n",
       "18284    1\n",
       "Name: label, Length: 18285, dtype: int64"
      ]
     },
     "execution_count": 72,
     "metadata": {},
     "output_type": "execute_result"
    }
   ],
   "source": [
    "y"
   ]
  },
  {
   "cell_type": "code",
   "execution_count": 73,
   "id": "082985fe",
   "metadata": {},
   "outputs": [],
   "source": [
    "lemmatizer = WordNetLemmatizer()\n",
    "corpus = []\n",
    "\n",
    "for i in range(0, len(X)):\n",
    "    \n",
    "    review = re.sub('[^a-zA-Z]', ' ', X['title'][i]).lower().split()\n",
    "    review = [lemmatizer.lemmatize(word) for word in review if not word in stopwords.words('english')]\n",
    "    review = ' '.join(review)\n",
    "    corpus.append(review)"
   ]
  },
  {
   "cell_type": "code",
   "execution_count": 74,
   "id": "86c7e0ee",
   "metadata": {},
   "outputs": [],
   "source": [
    "voc_size = 5000\n",
    "onehot = [one_hot(words,voc_size)for words in corpus]"
   ]
  },
  {
   "cell_type": "code",
   "execution_count": 75,
   "id": "d15e0b95",
   "metadata": {},
   "outputs": [
    {
     "name": "stdout",
     "output_type": "stream",
     "text": [
      "[[   0    0    0 ... 1497  544 4353]\n",
      " [   0    0    0 ... 1052  189 3694]\n",
      " [   0    0    0 ... 1789 1134 3204]\n",
      " ...\n",
      " [   0    0    0 ... 1469 2214 1688]\n",
      " [   0    0    0 ... 3384 2045 4457]\n",
      " [   0    0    0 ... 1705 3895  377]]\n"
     ]
    }
   ],
   "source": [
    "sent_length = 20\n",
    "embedded_docs = pad_sequences(onehot,padding='pre',maxlen=sent_length)\n",
    "print(embedded_docs)"
   ]
  },
  {
   "cell_type": "code",
   "execution_count": 76,
   "id": "71085fdc",
   "metadata": {},
   "outputs": [],
   "source": [
    "X = np.array(embedded_docs)\n",
    "y = np.array(y)\n",
    "\n",
    "X_train, X_test, y_train, y_test = train_test_split(X, y, test_size=0.33, random_state=42)"
   ]
  },
  {
   "cell_type": "code",
   "execution_count": 77,
   "id": "c0131640",
   "metadata": {},
   "outputs": [
    {
     "name": "stdout",
     "output_type": "stream",
     "text": [
      "Model: \"sequential_5\"\n",
      "_________________________________________________________________\n",
      " Layer (type)                Output Shape              Param #   \n",
      "=================================================================\n",
      " embedding_5 (Embedding)     (None, 20, 40)            200000    \n",
      "                                                                 \n",
      " dropout_6 (Dropout)         (None, 20, 40)            0         \n",
      "                                                                 \n",
      " lstm_5 (LSTM)               (None, 100)               56400     \n",
      "                                                                 \n",
      " dropout_7 (Dropout)         (None, 100)               0         \n",
      "                                                                 \n",
      " dense_5 (Dense)             (None, 1)                 101       \n",
      "                                                                 \n",
      "=================================================================\n",
      "Total params: 256,501\n",
      "Trainable params: 256,501\n",
      "Non-trainable params: 0\n",
      "_________________________________________________________________\n",
      "None\n"
     ]
    }
   ],
   "source": [
    "embedding_vector_features = 40\n",
    "model = Sequential()\n",
    "model.add(Embedding(voc_size,embedding_vector_features,input_length=sent_length))\n",
    "model.add(Dropout(0.3))\n",
    "model.add(LSTM(100))\n",
    "model.add(Dropout(0.3))\n",
    "model.add(Dense(1,activation='sigmoid'))\n",
    "model.compile(loss='binary_crossentropy',optimizer='adam',metrics=['accuracy'])\n",
    "print(model.summary())"
   ]
  },
  {
   "cell_type": "code",
   "execution_count": 78,
   "id": "72b4d582",
   "metadata": {},
   "outputs": [
    {
     "name": "stdout",
     "output_type": "stream",
     "text": [
      "Epoch 1/10\n",
      "192/192 [==============================] - 13s 59ms/step - loss: 0.3417 - accuracy: 0.8375 - val_loss: 0.1993 - val_accuracy: 0.9167\n",
      "Epoch 2/10\n",
      "192/192 [==============================] - 10s 54ms/step - loss: 0.1450 - accuracy: 0.9429 - val_loss: 0.1980 - val_accuracy: 0.9180\n",
      "Epoch 3/10\n",
      "192/192 [==============================] - 10s 54ms/step - loss: 0.1028 - accuracy: 0.9622 - val_loss: 0.2159 - val_accuracy: 0.9190\n",
      "Epoch 4/10\n",
      "192/192 [==============================] - 11s 57ms/step - loss: 0.0747 - accuracy: 0.9749 - val_loss: 0.2534 - val_accuracy: 0.9145\n",
      "Epoch 5/10\n",
      "192/192 [==============================] - 10s 54ms/step - loss: 0.0561 - accuracy: 0.9807 - val_loss: 0.2802 - val_accuracy: 0.9152\n",
      "Epoch 6/10\n",
      "192/192 [==============================] - 11s 56ms/step - loss: 0.0392 - accuracy: 0.9872 - val_loss: 0.3791 - val_accuracy: 0.9135\n",
      "Epoch 7/10\n",
      "192/192 [==============================] - 11s 56ms/step - loss: 0.0333 - accuracy: 0.9887 - val_loss: 0.3716 - val_accuracy: 0.9112\n",
      "Epoch 8/10\n",
      "192/192 [==============================] - 11s 56ms/step - loss: 0.0239 - accuracy: 0.9925 - val_loss: 0.3687 - val_accuracy: 0.9122\n",
      "Epoch 9/10\n",
      "192/192 [==============================] - 11s 57ms/step - loss: 0.0211 - accuracy: 0.9935 - val_loss: 0.4622 - val_accuracy: 0.9125\n",
      "Epoch 10/10\n",
      "192/192 [==============================] - 13s 68ms/step - loss: 0.0140 - accuracy: 0.9953 - val_loss: 0.4609 - val_accuracy: 0.9092\n"
     ]
    },
    {
     "data": {
      "text/plain": [
       "<keras.callbacks.History at 0x173c300a970>"
      ]
     },
     "execution_count": 78,
     "metadata": {},
     "output_type": "execute_result"
    }
   ],
   "source": [
    "model.fit(X_train,y_train,validation_data=(X_test,y_test),epochs=10,batch_size=64)"
   ]
  },
  {
   "cell_type": "code",
   "execution_count": 79,
   "id": "7b8669e7",
   "metadata": {},
   "outputs": [
    {
     "name": "stdout",
     "output_type": "stream",
     "text": [
      "189/189 [==============================] - 2s 10ms/step\n"
     ]
    }
   ],
   "source": [
    "y_pred = np.argmax(model.predict(X_test), axis=1)"
   ]
  },
  {
   "cell_type": "code",
   "execution_count": 80,
   "id": "cbd14122",
   "metadata": {},
   "outputs": [
    {
     "data": {
      "text/plain": [
       "0.5665285832642917"
      ]
     },
     "execution_count": 80,
     "metadata": {},
     "output_type": "execute_result"
    }
   ],
   "source": [
    "accuracy_score(y_test,y_pred)"
   ]
  },
  {
   "cell_type": "code",
   "execution_count": 81,
   "id": "ef59c303",
   "metadata": {},
   "outputs": [
    {
     "data": {
      "text/plain": [
       "array([[3419,    0],\n",
       "       [2616,    0]], dtype=int64)"
      ]
     },
     "execution_count": 81,
     "metadata": {},
     "output_type": "execute_result"
    }
   ],
   "source": [
    "confusion_matrix(y_test,y_pred)"
   ]
  },
  {
   "cell_type": "code",
   "execution_count": null,
   "id": "058ebc29",
   "metadata": {},
   "outputs": [],
   "source": []
  }
 ],
 "metadata": {
  "kernelspec": {
   "display_name": "Python 3 (ipykernel)",
   "language": "python",
   "name": "python3"
  },
  "language_info": {
   "codemirror_mode": {
    "name": "ipython",
    "version": 3
   },
   "file_extension": ".py",
   "mimetype": "text/x-python",
   "name": "python",
   "nbconvert_exporter": "python",
   "pygments_lexer": "ipython3",
   "version": "3.9.13"
  }
 },
 "nbformat": 4,
 "nbformat_minor": 5
}
